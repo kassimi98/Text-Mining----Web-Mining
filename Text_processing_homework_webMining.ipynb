{
  "nbformat": 4,
  "nbformat_minor": 0,
  "metadata": {
    "colab": {
      "name": "Untitled2.ipynb",
      "provenance": []
    },
    "kernelspec": {
      "name": "python3",
      "display_name": "Python 3"
    }
  },
  "cells": [
    {
      "cell_type": "markdown",
      "metadata": {
        "id": "BlG5oRZXFatY"
      },
      "source": [
        "## **Import Library**"
      ]
    },
    {
      "cell_type": "code",
      "metadata": {
        "id": "FTFc6H7e97hv"
      },
      "source": [
        "import nltk"
      ],
      "execution_count": 15,
      "outputs": []
    },
    {
      "cell_type": "markdown",
      "metadata": {
        "id": "xxxS1BiXFZT-"
      },
      "source": [
        "## **Lowercase**"
      ]
    },
    {
      "cell_type": "code",
      "metadata": {
        "colab": {
          "base_uri": "https://localhost:8080/"
        },
        "id": "FbZQYAfzEP6a",
        "outputId": "88232c47-0a77-448c-f1df-d170624cec36"
      },
      "source": [
        "text = \"\"\"The next Preprocessing step is breaking up the units of text into individual words or tokens. This process \r\n",
        "         can take many forms, depending on the language being analyzed. For English, a straightforward and effective \r\n",
        "         tokenization strategy is to use white space and punctuation as token delimiters.\"\"\"\r\n",
        "text = text.lower()\r\n",
        "print(text)"
      ],
      "execution_count": 4,
      "outputs": [
        {
          "output_type": "stream",
          "text": [
            "the next preprocessing step is breaking up the units of text into individual words or tokens. this process \n",
            "         can take many forms, depending on the language being analyzed. for english, a straightforward and effective \n",
            "         tokenization strategy is to use white space and punctuation as token delimiters.\n"
          ],
          "name": "stdout"
        }
      ]
    },
    {
      "cell_type": "markdown",
      "metadata": {
        "id": "BJPGk_aFF3o9"
      },
      "source": [
        "## **Removing Punctuation**"
      ]
    },
    {
      "cell_type": "code",
      "metadata": {
        "colab": {
          "base_uri": "https://localhost:8080/"
        },
        "id": "EznRu4KxEfPR",
        "outputId": "67abf91b-d1a6-499c-ab97-269c162b09a0"
      },
      "source": [
        "import string\r\n",
        "print(string.punctuation)"
      ],
      "execution_count": 5,
      "outputs": [
        {
          "output_type": "stream",
          "text": [
            "!\"#$%&'()*+,-./:;<=>?@[\\]^_`{|}~\n"
          ],
          "name": "stdout"
        }
      ]
    },
    {
      "cell_type": "code",
      "metadata": {
        "id": "Yeoh1UW-94No",
        "colab": {
          "base_uri": "https://localhost:8080/"
        },
        "outputId": "b30021b8-aa52-4457-989a-284074c2e82a"
      },
      "source": [
        "text_p = \"\".join([char for char in text if char not in string.punctuation])\r\n",
        "print(text_p)"
      ],
      "execution_count": 6,
      "outputs": [
        {
          "output_type": "stream",
          "text": [
            "the next preprocessing step is breaking up the units of text into individual words or tokens this process \n",
            "         can take many forms depending on the language being analyzed for english a straightforward and effective \n",
            "         tokenization strategy is to use white space and punctuation as token delimiters\n"
          ],
          "name": "stdout"
        }
      ]
    },
    {
      "cell_type": "markdown",
      "metadata": {
        "id": "QdjoA0nNGCFq"
      },
      "source": [
        "## **Word Tokenization**"
      ]
    },
    {
      "cell_type": "code",
      "metadata": {
        "colab": {
          "base_uri": "https://localhost:8080/"
        },
        "id": "V2_adIyPErnf",
        "outputId": "a54b0b37-f1b1-43f0-d78f-65d8392cefec"
      },
      "source": [
        "from nltk import word_tokenize\r\n",
        "nltk.download('punkt')\r\n",
        "words = word_tokenize(text_p)\r\n",
        "print(words)"
      ],
      "execution_count": 8,
      "outputs": [
        {
          "output_type": "stream",
          "text": [
            "[nltk_data] Downloading package punkt to /root/nltk_data...\n",
            "[nltk_data]   Unzipping tokenizers/punkt.zip.\n",
            "['the', 'next', 'preprocessing', 'step', 'is', 'breaking', 'up', 'the', 'units', 'of', 'text', 'into', 'individual', 'words', 'or', 'tokens', 'this', 'process', 'can', 'take', 'many', 'forms', 'depending', 'on', 'the', 'language', 'being', 'analyzed', 'for', 'english', 'a', 'straightforward', 'and', 'effective', 'tokenization', 'strategy', 'is', 'to', 'use', 'white', 'space', 'and', 'punctuation', 'as', 'token', 'delimiters']\n"
          ],
          "name": "stdout"
        }
      ]
    },
    {
      "cell_type": "markdown",
      "metadata": {
        "id": "_7TyrTNRGLLb"
      },
      "source": [
        "## **Stopword Filtering**"
      ]
    },
    {
      "cell_type": "code",
      "metadata": {
        "colab": {
          "base_uri": "https://localhost:8080/"
        },
        "id": "JOz5GYWRE--z",
        "outputId": "d0a96aca-f1fb-4f70-ed0b-6088e705c61e"
      },
      "source": [
        "from nltk.corpus import stopwords\r\n",
        "nltk.download('stopwords')\r\n",
        "stop_words = stopwords.words('english')\r\n",
        "print(stop_words)"
      ],
      "execution_count": 10,
      "outputs": [
        {
          "output_type": "stream",
          "text": [
            "[nltk_data] Downloading package stopwords to /root/nltk_data...\n",
            "[nltk_data]   Unzipping corpora/stopwords.zip.\n",
            "['i', 'me', 'my', 'myself', 'we', 'our', 'ours', 'ourselves', 'you', \"you're\", \"you've\", \"you'll\", \"you'd\", 'your', 'yours', 'yourself', 'yourselves', 'he', 'him', 'his', 'himself', 'she', \"she's\", 'her', 'hers', 'herself', 'it', \"it's\", 'its', 'itself', 'they', 'them', 'their', 'theirs', 'themselves', 'what', 'which', 'who', 'whom', 'this', 'that', \"that'll\", 'these', 'those', 'am', 'is', 'are', 'was', 'were', 'be', 'been', 'being', 'have', 'has', 'had', 'having', 'do', 'does', 'did', 'doing', 'a', 'an', 'the', 'and', 'but', 'if', 'or', 'because', 'as', 'until', 'while', 'of', 'at', 'by', 'for', 'with', 'about', 'against', 'between', 'into', 'through', 'during', 'before', 'after', 'above', 'below', 'to', 'from', 'up', 'down', 'in', 'out', 'on', 'off', 'over', 'under', 'again', 'further', 'then', 'once', 'here', 'there', 'when', 'where', 'why', 'how', 'all', 'any', 'both', 'each', 'few', 'more', 'most', 'other', 'some', 'such', 'no', 'nor', 'not', 'only', 'own', 'same', 'so', 'than', 'too', 'very', 's', 't', 'can', 'will', 'just', 'don', \"don't\", 'should', \"should've\", 'now', 'd', 'll', 'm', 'o', 're', 've', 'y', 'ain', 'aren', \"aren't\", 'couldn', \"couldn't\", 'didn', \"didn't\", 'doesn', \"doesn't\", 'hadn', \"hadn't\", 'hasn', \"hasn't\", 'haven', \"haven't\", 'isn', \"isn't\", 'ma', 'mightn', \"mightn't\", 'mustn', \"mustn't\", 'needn', \"needn't\", 'shan', \"shan't\", 'shouldn', \"shouldn't\", 'wasn', \"wasn't\", 'weren', \"weren't\", 'won', \"won't\", 'wouldn', \"wouldn't\"]\n"
          ],
          "name": "stdout"
        }
      ]
    },
    {
      "cell_type": "code",
      "metadata": {
        "colab": {
          "base_uri": "https://localhost:8080/"
        },
        "id": "Eiz1BKVGFHln",
        "outputId": "47dd098f-35ba-4d8d-97cf-df960ff96edd"
      },
      "source": [
        "filtered_words = [word for word in words if word not in stop_words]\r\n",
        "print(filtered_words)"
      ],
      "execution_count": 11,
      "outputs": [
        {
          "output_type": "stream",
          "text": [
            "['next', 'preprocessing', 'step', 'breaking', 'units', 'text', 'individual', 'words', 'tokens', 'process', 'take', 'many', 'forms', 'depending', 'language', 'analyzed', 'english', 'straightforward', 'effective', 'tokenization', 'strategy', 'use', 'white', 'space', 'punctuation', 'token', 'delimiters']\n"
          ],
          "name": "stdout"
        }
      ]
    },
    {
      "cell_type": "markdown",
      "metadata": {
        "id": "wm-A8wQCGTCE"
      },
      "source": [
        "## **Stemming**"
      ]
    },
    {
      "cell_type": "code",
      "metadata": {
        "colab": {
          "base_uri": "https://localhost:8080/"
        },
        "id": "QsbU_9xsFNA6",
        "outputId": "d2a401f3-3093-452e-f55a-0bfda09e06cb"
      },
      "source": [
        "from nltk.stem.porter import PorterStemmer\r\n",
        "porter = PorterStemmer()\r\n",
        "stemmed = [porter.stem(word) for word in filtered_words]\r\n",
        "print(stemmed)"
      ],
      "execution_count": 12,
      "outputs": [
        {
          "output_type": "stream",
          "text": [
            "['next', 'preprocess', 'step', 'break', 'unit', 'text', 'individu', 'word', 'token', 'process', 'take', 'mani', 'form', 'depend', 'languag', 'analyz', 'english', 'straightforward', 'effect', 'token', 'strategi', 'use', 'white', 'space', 'punctuat', 'token', 'delimit']\n"
          ],
          "name": "stdout"
        }
      ]
    },
    {
      "cell_type": "markdown",
      "metadata": {
        "id": "_P7_Wij1GcuB"
      },
      "source": [
        "## **POS**"
      ]
    },
    {
      "cell_type": "code",
      "metadata": {
        "colab": {
          "base_uri": "https://localhost:8080/"
        },
        "id": "W4ABVGw3FRH8",
        "outputId": "7951aa19-3d56-4f86-e9a4-66a5458c29c6"
      },
      "source": [
        "from nltk import pos_tag\r\n",
        "nltk.download('averaged_perceptron_tagger')\r\n",
        "pos = pos_tag(filtered_words)\r\n",
        "print(pos)"
      ],
      "execution_count": 14,
      "outputs": [
        {
          "output_type": "stream",
          "text": [
            "[nltk_data] Downloading package averaged_perceptron_tagger to\n",
            "[nltk_data]     /root/nltk_data...\n",
            "[nltk_data]   Unzipping taggers/averaged_perceptron_tagger.zip.\n",
            "[('next', 'JJ'), ('preprocessing', 'VBG'), ('step', 'NN'), ('breaking', 'VBG'), ('units', 'NNS'), ('text', 'JJ'), ('individual', 'JJ'), ('words', 'NNS'), ('tokens', 'VBZ'), ('process', 'JJ'), ('take', 'VB'), ('many', 'JJ'), ('forms', 'NNS'), ('depending', 'VBG'), ('language', 'NN'), ('analyzed', 'VBD'), ('english', 'JJ'), ('straightforward', 'RB'), ('effective', 'JJ'), ('tokenization', 'NN'), ('strategy', 'NN'), ('use', 'IN'), ('white', 'JJ'), ('space', 'NN'), ('punctuation', 'NN'), ('token', 'NN'), ('delimiters', 'NNS')]\n"
          ],
          "name": "stdout"
        }
      ]
    }
  ]
}